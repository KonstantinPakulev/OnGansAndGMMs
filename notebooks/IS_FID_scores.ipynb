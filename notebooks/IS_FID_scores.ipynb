{
 "cells": [
  {
   "cell_type": "code",
   "execution_count": 35,
   "metadata": {},
   "outputs": [
    {
     "name": "stdout",
     "output_type": "stream",
     "text": [
      "The autoreload extension is already loaded. To reload it, use:\n",
      "  %reload_ext autoreload\n"
     ]
    }
   ],
   "source": [
    "%load_ext autoreload\n",
    "%autoreload 2"
   ]
  },
  {
   "cell_type": "code",
   "execution_count": 1,
   "metadata": {},
   "outputs": [],
   "source": [
    "import torch\n",
    "import torchvision\n",
    "import torchvision.transforms as transforms\n",
    "import torchvision.utils as vutils\n",
    "import numpy as np\n",
    "import matplotlib.pyplot as plt\n",
    "import matplotlib.animation as animation\n",
    "from IPython.display import HTML\n",
    "import torch.nn as nn\n",
    "import torch.optim as optim\n",
    "import os\n",
    "import torch.nn.functional as F\n",
    "from torch.utils.data import Dataset, DataLoader\n",
    "from torch.nn.functional import interpolate, upsample"
   ]
  },
  {
   "cell_type": "code",
   "execution_count": 2,
   "metadata": {},
   "outputs": [],
   "source": [
    "import sys\n",
    "sys.path.insert(1, '../')"
   ]
  },
  {
   "cell_type": "code",
   "execution_count": 3,
   "metadata": {},
   "outputs": [],
   "source": [
    "import numpy as np\n",
    "\n",
    "import torch\n",
    "\n",
    "\n",
    "from source.mfa.celeba_dataset import FlattenTransform\n",
    "from source.mfa.mfa import MFA\n",
    "from source.wgangp.wgan_model import WGAN_GP\n",
    "from source.dcgan.dcgan_model import Discriminator, Generator, DCGAN\n",
    "from source.ins_score.Inception_Score_function import Inception_Score\n",
    "from source.fid.FID import Frеchet_Inception_Distance\n",
    "from source.mfa.mfa_torch import get_latent_posterior_mean, init_raw_parms_from_gmm, get_max_posterior_component, generate_from_posterior\n",
    "from source.pix2pix.pix2pix import Pix2PixGen"
   ]
  },
  {
   "cell_type": "code",
   "execution_count": 4,
   "metadata": {},
   "outputs": [],
   "source": [
    "device = torch.device(\"cuda:0\" if (torch.cuda.is_available()) else \"cpu\")"
   ]
  },
  {
   "cell_type": "code",
   "execution_count": 5,
   "metadata": {},
   "outputs": [],
   "source": [
    "predictor = torchvision.models.inception_v3(pretrained=True).to(device)"
   ]
  },
  {
   "cell_type": "code",
   "execution_count": 30,
   "metadata": {},
   "outputs": [],
   "source": [
    "transform = transforms.Compose(\n",
    "    [transforms.Resize(299),\n",
    "     transforms.ToTensor(),\n",
    "     transforms.Normalize(mean=[0.485, 0.456, 0.406],\n",
    "                          std=[0.229, 0.224, 0.225])])"
   ]
  },
  {
   "cell_type": "code",
   "execution_count": 8,
   "metadata": {},
   "outputs": [],
   "source": [
    "class Generated_images(Dataset):\n",
    "\n",
    "    def __init__(self, z, generator, transform=None, mode=None):\n",
    "        self.z = z\n",
    "        self.generator = generator\n",
    "        self.transform = transform\n",
    "        self.mode=mode\n",
    "\n",
    "    def __len__(self):\n",
    "        return len(self.z)\n",
    "\n",
    "    def __getitem__(self, idx):\n",
    "        from PIL import Image\n",
    "\n",
    "        with torch.no_grad():\n",
    "            if self.mode=='DCGAN':\n",
    "                image = np.transpose(self.generator(self.z[idx].reshape(1,Z_LATENT,1,1)).cpu().numpy().squeeze(),(1,2,0))\n",
    "            elif self.mode=='WGAN':\n",
    "                self.generator.eval()\n",
    "                image = np.transpose(self.generator(self.z[idx].reshape(1,Z_LATENT)).cpu().numpy().squeeze(),(1,2,0))\n",
    "        \n",
    "        norm = plt.Normalize()\n",
    "        image = norm(image)\n",
    "        \n",
    "        image = Image.fromarray(np.uint8(255*image))\n",
    "\n",
    "        if self.transform:\n",
    "            image = self.transform(image)\n",
    "\n",
    "        return image"
   ]
  },
  {
   "cell_type": "code",
   "execution_count": 28,
   "metadata": {},
   "outputs": [],
   "source": [
    "class MFADataset(Dataset):\n",
    "    def __init__(self, samples,transform=None):\n",
    "        self.samples = samples\n",
    "        self.transform = transform\n",
    "\n",
    "    def __len__(self):\n",
    "        return len(self.samples)\n",
    "    \n",
    "\n",
    "    def __getitem__(self, idx):\n",
    "        from PIL import Image\n",
    "        image = np.transpose(self.samples[idx].numpy(),(1,2,0))\n",
    "        norm = plt.Normalize()\n",
    "        image = norm(image)\n",
    "        \n",
    "        image = Image.fromarray(np.uint8(255*image))\n",
    "\n",
    "        if self.transform:\n",
    "            image = self.transform(image)\n",
    "        \n",
    "        return image"
   ]
  },
  {
   "cell_type": "code",
   "execution_count": 13,
   "metadata": {},
   "outputs": [],
   "source": [
    "num_test = 20000"
   ]
  },
  {
   "cell_type": "code",
   "execution_count": 6,
   "metadata": {},
   "outputs": [],
   "source": [
    "# Path for dataset\n",
    "DATA_PATH = '../../generative-models/notebooks/data'"
   ]
  },
  {
   "cell_type": "code",
   "execution_count": 33,
   "metadata": {},
   "outputs": [
    {
     "name": "stdout",
     "output_type": "stream",
     "text": [
      "Files already downloaded and verified\n"
     ]
    }
   ],
   "source": [
    "transform_celeba = transforms.Compose(\n",
    "    [transforms.CenterCrop(178),\n",
    "    transforms.Resize(299),\n",
    "     transforms.ToTensor(),\n",
    "     transforms.Normalize(mean=[0.485, 0.456, 0.406],\n",
    "                          std=[0.229, 0.224, 0.225])])\n",
    "\n",
    "trainset = torchvision.datasets.CelebA(root=DATA_PATH, split='train',\n",
    "                                        download=True, transform=transform_celeba)\n",
    "class CelebAdataset(Dataset):\n",
    "    def __init__(self, dataset):\n",
    "        self.dataset = dataset\n",
    "\n",
    "    def __len__(self):\n",
    "        return num_test\n",
    "    \n",
    "\n",
    "    def __getitem__(self, idx):\n",
    "        image, _ = self.dataset[idx]\n",
    "        \n",
    "        return image\n",
    "    \n",
    "images_set_celeba = CelebAdataset(trainset)"
   ]
  },
  {
   "cell_type": "code",
   "execution_count": 8,
   "metadata": {},
   "outputs": [
    {
     "name": "stdout",
     "output_type": "stream",
     "text": [
      "Files already downloaded and verified\n"
     ]
    }
   ],
   "source": [
    "transform_pix2pix = transforms.Compose(\n",
    "    [transforms.CenterCrop(178),\n",
    "    transforms.Resize((64, 64)),\n",
    "    transforms.ToTensor(),\n",
    "    FlattenTransform()])\n",
    "\n",
    "trainset_p = torchvision.datasets.CelebA(root=DATA_PATH, split='train',\n",
    "                                        download=True, transform=transform_pix2pix)\n",
    "class PIX2PIXDataset(Dataset):\n",
    "    def __init__(self, dataset):\n",
    "        self.dataset = dataset\n",
    "\n",
    "    def __len__(self):\n",
    "        return num_test\n",
    "    \n",
    "\n",
    "    def __getitem__(self, idx):\n",
    "        image, _ = self.dataset[idx]\n",
    "        \n",
    "        return image\n",
    "    \n",
    "images_set_celeba_pix2pix = PIX2PIXDataset(trainset_p)"
   ]
  },
  {
   "cell_type": "markdown",
   "metadata": {},
   "source": [
    "## DCGAN"
   ]
  },
  {
   "cell_type": "code",
   "execution_count": 46,
   "metadata": {},
   "outputs": [],
   "source": [
    "# Size of z latent vector\n",
    "Z_LATENT = 100\n",
    "\n",
    "# Size of generator output (channels)\n",
    "GENERATOR_PARAMETER = 64\n",
    "\n",
    "#  Size of discriminator output (channels)\n",
    "DISCRIMINATOR_PARAMETER = 64\n",
    "\n",
    "# Path for logs\n",
    "LOG_PATH = '../../generative-models/notebooks/dcgan_train_process_2'"
   ]
  },
  {
   "cell_type": "code",
   "execution_count": 47,
   "metadata": {},
   "outputs": [],
   "source": [
    "model = DCGAN(GENERATOR_PARAMETER, DISCRIMINATOR_PARAMETER,Z_LATENT,device)"
   ]
  },
  {
   "cell_type": "code",
   "execution_count": 48,
   "metadata": {},
   "outputs": [
    {
     "data": {
      "text/plain": [
       "<All keys matched successfully>"
      ]
     },
     "execution_count": 48,
     "metadata": {},
     "output_type": "execute_result"
    }
   ],
   "source": [
    "checkpoint = torch.load(os.path.join(LOG_PATH,'131000_generator.ckpt'))\n",
    "model.G.load_state_dict(checkpoint)"
   ]
  },
  {
   "cell_type": "code",
   "execution_count": 49,
   "metadata": {},
   "outputs": [],
   "source": [
    "z_DCGAN = torch.randn(num_test, Z_LATENT, 1, 1, device = device)"
   ]
  },
  {
   "cell_type": "code",
   "execution_count": 50,
   "metadata": {},
   "outputs": [],
   "source": [
    "images_set_DCGAN = Generated_images(z_DCGAN,model.G,transform=transform,mode='DCGAN')"
   ]
  },
  {
   "cell_type": "markdown",
   "metadata": {},
   "source": [
    "## WGAN_GP"
   ]
  },
  {
   "cell_type": "code",
   "execution_count": 51,
   "metadata": {},
   "outputs": [],
   "source": [
    "# Size of z latent vector\n",
    "Z_LATENT= 100\n",
    "\n",
    "# Path for logs\n",
    "LOG_PATH = '../../'"
   ]
  },
  {
   "cell_type": "code",
   "execution_count": 52,
   "metadata": {},
   "outputs": [
    {
     "data": {
      "text/plain": [
       "<All keys matched successfully>"
      ]
     },
     "execution_count": 52,
     "metadata": {},
     "output_type": "execute_result"
    }
   ],
   "source": [
    "wgangp_model = WGAN_GP(3, Z_LATENT).to(device)\n",
    "wgangp_model.G.load_state_dict(torch.load(os.path.join(LOG_PATH,'wgangp_gen_40.pt')))"
   ]
  },
  {
   "cell_type": "code",
   "execution_count": 53,
   "metadata": {},
   "outputs": [],
   "source": [
    "z_WGAN = torch.randn(num_test, Z_LATENT,device = device)"
   ]
  },
  {
   "cell_type": "code",
   "execution_count": 54,
   "metadata": {},
   "outputs": [],
   "source": [
    "images_set_WGAN = Generated_images(z_WGAN,wgangp_model.G,transform=transform,mode='WGAN')"
   ]
  },
  {
   "cell_type": "markdown",
   "metadata": {},
   "source": [
    "## MFA FA"
   ]
  },
  {
   "cell_type": "code",
   "execution_count": 15,
   "metadata": {},
   "outputs": [],
   "source": [
    "# Path for logs\n",
    "LOG_PATH = '../../'"
   ]
  },
  {
   "cell_type": "code",
   "execution_count": 16,
   "metadata": {},
   "outputs": [],
   "source": [
    "fa_gmm_model = MFA()"
   ]
  },
  {
   "cell_type": "code",
   "execution_count": 17,
   "metadata": {},
   "outputs": [],
   "source": [
    "fa_gmm_model.load(os.path.join(LOG_PATH,'e1_fa_256_saved_gmm.pkl'))"
   ]
  },
  {
   "cell_type": "code",
   "execution_count": 18,
   "metadata": {},
   "outputs": [],
   "source": [
    "fa_samples = fa_gmm_model.draw_samples(num_test, False)"
   ]
  },
  {
   "cell_type": "code",
   "execution_count": 19,
   "metadata": {},
   "outputs": [],
   "source": [
    "fa_samples = torch.Tensor(fa_samples.reshape(num_test,3,64,64))"
   ]
  },
  {
   "cell_type": "code",
   "execution_count": null,
   "metadata": {},
   "outputs": [],
   "source": [
    "images_set_MFA = MFADataset(fa_samples,transform=transform)"
   ]
  },
  {
   "cell_type": "markdown",
   "metadata": {},
   "source": [
    "## MFA PPCA"
   ]
  },
  {
   "cell_type": "code",
   "execution_count": 88,
   "metadata": {},
   "outputs": [],
   "source": [
    "# Path for logs\n",
    "LOG_PATH = '../../'"
   ]
  },
  {
   "cell_type": "code",
   "execution_count": 89,
   "metadata": {},
   "outputs": [],
   "source": [
    "ppca_gmm_model = MFA()"
   ]
  },
  {
   "cell_type": "code",
   "execution_count": 90,
   "metadata": {},
   "outputs": [],
   "source": [
    "ppca_gmm_model.load(os.path.join(LOG_PATH,'e3_ppca_256_saved_gmm.pkl'))"
   ]
  },
  {
   "cell_type": "code",
   "execution_count": 91,
   "metadata": {},
   "outputs": [],
   "source": [
    "ppca_samples = ppca_gmm_model.draw_samples(num_test, False)"
   ]
  },
  {
   "cell_type": "code",
   "execution_count": 92,
   "metadata": {},
   "outputs": [],
   "source": [
    "ppca_samples = torch.Tensor(ppca_samples.reshape(num_test,3,64,64))"
   ]
  },
  {
   "cell_type": "code",
   "execution_count": 94,
   "metadata": {},
   "outputs": [],
   "source": [
    "images_set_MFA_PCA = MFADataset(ppca_samples,transform=transform)"
   ]
  },
  {
   "cell_type": "code",
   "execution_count": null,
   "metadata": {},
   "outputs": [],
   "source": [
    "for X in pix2pix_loader:\n",
    "    X_hat = generate_from_posterior(X, G_PI, G_MU, G_A, G_D)\n",
    "\n",
    "    X_sharp = interpolate(pix2pix_G(interpolate(X_hat.view(-1, 3, 64, 64), size=256)), size=64)\n",
    "    \n",
    "    images_pix2pix.append(X_sharp.cpu().)"
   ]
  },
  {
   "cell_type": "markdown",
   "metadata": {},
   "source": [
    "## PIX2PIX+MFA"
   ]
  },
  {
   "cell_type": "code",
   "execution_count": 9,
   "metadata": {},
   "outputs": [],
   "source": [
    "# Path for logs\n",
    "LOG_PATH = '../../'"
   ]
  },
  {
   "cell_type": "code",
   "execution_count": 10,
   "metadata": {},
   "outputs": [],
   "source": [
    "pix2pix_G = Pix2PixGen().cuda()"
   ]
  },
  {
   "cell_type": "code",
   "execution_count": 11,
   "metadata": {},
   "outputs": [
    {
     "data": {
      "text/plain": [
       "<All keys matched successfully>"
      ]
     },
     "execution_count": 11,
     "metadata": {},
     "output_type": "execute_result"
    }
   ],
   "source": [
    "pix2pix_G.load_state_dict(torch.load(os.path.join(LOG_PATH,'e1_pix2pix_gen_1')))"
   ]
  },
  {
   "cell_type": "code",
   "execution_count": 25,
   "metadata": {
    "scrolled": true
   },
   "outputs": [
    {
     "name": "stdout",
     "output_type": "stream",
     "text": [
      "0\n",
      "100\n",
      "200\n",
      "300\n",
      "400\n"
     ]
    }
   ],
   "source": [
    "pix2pix_loader = DataLoader(images_set_celeba_pix2pix, batch_size=num_test//2000, shuffle=True)\n",
    "\n",
    "G_PI, G_MU, G_A, G_D = init_raw_parms_from_gmm(fa_gmm_model)\n",
    "\n",
    "images_pix2pix=[]\n",
    "\n",
    "for i,X in enumerate(pix2pix_loader):\n",
    "    X = X.cpu()\n",
    "    G_PI, G_MU, G_A, G_D = G_PI.cpu(), G_MU.cpu(), G_A.cpu(), G_D.cpu() \n",
    "    with torch.no_grad():\n",
    "        X_hat = generate_from_posterior(X, G_PI, G_MU, G_A, G_D)\n",
    "\n",
    "        X_sharp = interpolate(pix2pix_G(interpolate(X_hat.view(-1, 3, 64, 64).to(device), size=256)), size=64)\n",
    "    \n",
    "    images_pix2pix.append(X_sharp.cpu().numpy())\n",
    "    if i%100==0:\n",
    "        print(i)"
   ]
  },
  {
   "cell_type": "code",
   "execution_count": 26,
   "metadata": {},
   "outputs": [],
   "source": [
    "images_pix2pix = torch.Tensor(np.vstack(images_pix2pix))"
   ]
  },
  {
   "cell_type": "code",
   "execution_count": 31,
   "metadata": {},
   "outputs": [],
   "source": [
    "images_set_PIX2PIX = MFADataset(images_pix2pix,transform=transform)"
   ]
  },
  {
   "cell_type": "markdown",
   "metadata": {},
   "source": [
    "## Calculate IS score"
   ]
  },
  {
   "cell_type": "code",
   "execution_count": 48,
   "metadata": {},
   "outputs": [],
   "source": [
    "IS_DCGAN, IS_err_DCGAN = Inception_Score(images_set_DCGAN, predictor, n=10, bs=100)"
   ]
  },
  {
   "cell_type": "code",
   "execution_count": 54,
   "metadata": {},
   "outputs": [
    {
     "name": "stdout",
     "output_type": "stream",
     "text": [
      "Inception score for DCGAN equals 2.330+/-0.032\n"
     ]
    }
   ],
   "source": [
    "print('Inception score for DCGAN equals %.3f+/-%.3f' % (IS_DCGAN,IS_err_DCGAN))"
   ]
  },
  {
   "cell_type": "code",
   "execution_count": 50,
   "metadata": {},
   "outputs": [],
   "source": [
    "IS_WGAN, IS_err_WGAN = Inception_Score(images_set_WGAN, predictor, n=10, bs=100)"
   ]
  },
  {
   "cell_type": "code",
   "execution_count": 55,
   "metadata": {},
   "outputs": [
    {
     "name": "stdout",
     "output_type": "stream",
     "text": [
      "Inception score for WGAN equals 2.403+/-0.039\n"
     ]
    }
   ],
   "source": [
    "print('Inception score for WGAN equals %.3f+/-%.3f' % (IS_WGAN,IS_err_WGAN))"
   ]
  },
  {
   "cell_type": "code",
   "execution_count": 52,
   "metadata": {},
   "outputs": [],
   "source": [
    "IS_MFA, IS_err_MFA = Inception_Score(images_set_MFA, predictor, n=10, bs=100)"
   ]
  },
  {
   "cell_type": "code",
   "execution_count": 56,
   "metadata": {},
   "outputs": [
    {
     "name": "stdout",
     "output_type": "stream",
     "text": [
      "Inception score for MFA equals 1.871+/-0.015\n"
     ]
    }
   ],
   "source": [
    "print('Inception score for MFA equals %.3f+/-%.3f' % (IS_MFA,IS_err_MFA))"
   ]
  },
  {
   "cell_type": "code",
   "execution_count": 95,
   "metadata": {},
   "outputs": [],
   "source": [
    "IS_MFA_PCA, IS_err_MFA_PCA = Inception_Score(images_set_MFA_PCA, predictor, n=10, bs=100)"
   ]
  },
  {
   "cell_type": "code",
   "execution_count": 96,
   "metadata": {},
   "outputs": [
    {
     "name": "stdout",
     "output_type": "stream",
     "text": [
      "Inception score for MFA PPCA equals 1.608+/-0.012\n"
     ]
    }
   ],
   "source": [
    "print('Inception score for MFA PPCA equals %.3f+/-%.3f' % (IS_MFA_PCA,IS_err_MFA_PCA))"
   ]
  },
  {
   "cell_type": "code",
   "execution_count": 38,
   "metadata": {},
   "outputs": [],
   "source": [
    "IS_PIX2PIX, IS_err_PIX2PIX = Inception_Score(images_set_PIX2PIX, predictor, n=10, bs=50)"
   ]
  },
  {
   "cell_type": "code",
   "execution_count": 39,
   "metadata": {},
   "outputs": [
    {
     "name": "stdout",
     "output_type": "stream",
     "text": [
      "Inception score for PIX2PIX+MFA equals 2.110+/-0.034\n"
     ]
    }
   ],
   "source": [
    "print('Inception score for PIX2PIX+MFA equals %.3f+/-%.3f' % (IS_PIX2PIX,IS_err_PIX2PIX))"
   ]
  },
  {
   "cell_type": "code",
   "execution_count": 158,
   "metadata": {},
   "outputs": [
    {
     "data": {
      "text/plain": [
       "Text(0.5, 1.0, 'Inception Score')"
      ]
     },
     "execution_count": 158,
     "metadata": {},
     "output_type": "execute_result"
    },
    {
     "data": {
      "image/png": "[encoded data removed]",
      "text/plain": [
       "<Figure size 1080x360 with 1 Axes>"
      ]
     },
     "metadata": {
      "needs_background": "light"
     },
     "output_type": "display_data"
    }
   ],
   "source": [
    "import seaborn as sns\n",
    "import pandas as pd\n",
    "\n",
    "bars = [IS_DCGAN, IS_WGAN, IS_MFA, IS_MFA_PCA, IS_PIX2PIX]\n",
    "\n",
    "\n",
    "\n",
    "plt.figure(figsize=(15,5))\n",
    "ax = sns.barplot(x=pd.Series(range(len(bars))),y=pd.Series(bars), palette=\"Blues_d\")\n",
    "\n",
    "ax.set_xticklabels(['DCGAN', 'WGAN-GP', 'MFA (init. by FA)', 'MFA init. by PCA', 'PIX2PIX+MFA'],fontdict={'fontsize':16})\n",
    "ax.set_ylabel('IS',fontsize=25)\n",
    "ax.set_title('Inception Score',fontsize=25)"
   ]
  },
  {
   "cell_type": "markdown",
   "metadata": {},
   "source": [
    "## Calculate FID score"
   ]
  },
  {
   "cell_type": "code",
   "execution_count": 61,
   "metadata": {},
   "outputs": [],
   "source": [
    "FID_DCGAN = Frеchet_Inception_Distance(images_set_celeba,images_set_DCGAN, predictor)"
   ]
  },
  {
   "cell_type": "code",
   "execution_count": 62,
   "metadata": {},
   "outputs": [
    {
     "name": "stdout",
     "output_type": "stream",
     "text": [
      "Frеchet Inception Distance for DCGAN equals 0.090\n"
     ]
    }
   ],
   "source": [
    "print('Frеchet Inception Distance for DCGAN equals %.3f' % (FID_DCGAN))"
   ]
  },
  {
   "cell_type": "code",
   "execution_count": 63,
   "metadata": {},
   "outputs": [],
   "source": [
    "FID_WGAN = Frеchet_Inception_Distance(images_set_celeba,images_set_WGAN, predictor)"
   ]
  },
  {
   "cell_type": "code",
   "execution_count": 64,
   "metadata": {},
   "outputs": [
    {
     "name": "stdout",
     "output_type": "stream",
     "text": [
      "Frеchet Inception Distance for WGAN equals 0.075\n"
     ]
    }
   ],
   "source": [
    "print('Frеchet Inception Distance for WGAN equals %.3f' % (FID_WGAN))"
   ]
  },
  {
   "cell_type": "code",
   "execution_count": 65,
   "metadata": {},
   "outputs": [],
   "source": [
    "FID_MFA = Frеchet_Inception_Distance(images_set_celeba,images_set_MFA, predictor)"
   ]
  },
  {
   "cell_type": "code",
   "execution_count": 66,
   "metadata": {},
   "outputs": [
    {
     "name": "stdout",
     "output_type": "stream",
     "text": [
      "Frеchet Inception Distance for MFA equals 0.125\n"
     ]
    }
   ],
   "source": [
    "print('Frеchet Inception Distance for MFA equals %.3f' % (FID_MFA))"
   ]
  },
  {
   "cell_type": "code",
   "execution_count": 98,
   "metadata": {},
   "outputs": [],
   "source": [
    "FID_MFA_PCA = Frеchet_Inception_Distance(images_set_celeba,images_set_MFA_PCA, predictor)"
   ]
  },
  {
   "cell_type": "code",
   "execution_count": 99,
   "metadata": {},
   "outputs": [
    {
     "name": "stdout",
     "output_type": "stream",
     "text": [
      "Frеchet Inception Distance for MFA equals 0.115\n"
     ]
    }
   ],
   "source": [
    "print('Frеchet Inception Distance for MFA equals %.3f' % (FID_MFA_PCA))"
   ]
  },
  {
   "cell_type": "code",
   "execution_count": 34,
   "metadata": {},
   "outputs": [],
   "source": [
    "FID_PIX2PIX = Frеchet_Inception_Distance(images_set_celeba,images_set_PIX2PIX, predictor, bs=50)"
   ]
  },
  {
   "cell_type": "code",
   "execution_count": 35,
   "metadata": {},
   "outputs": [
    {
     "name": "stdout",
     "output_type": "stream",
     "text": [
      "Frеchet Inception Distance for MFA equals 0.099\n"
     ]
    }
   ],
   "source": [
    "print('Frеchet Inception Distance for MFA equals %.3f' % (FID_PIX2PIX))"
   ]
  },
  {
   "cell_type": "code",
   "execution_count": 37,
   "metadata": {},
   "outputs": [
    {
     "data": {
      "text/plain": [
       "Text(0.5, 1.0, 'Frеchet Inception Distance')"
      ]
     },
     "execution_count": 37,
     "metadata": {},
     "output_type": "execute_result"
    },
    {
     "data": {
      "image/png": "[encoded data removed]",
      "text/plain": [
       "<Figure size 1080x360 with 1 Axes>"
      ]
     },
     "metadata": {
      "needs_background": "light"
     },
     "output_type": "display_data"
    }
   ],
   "source": [
    "import seaborn as sns\n",
    "import pandas as pd\n",
    "\n",
    "bars = [FID_DCGAN, FID_WGAN, FID_MFA, FID_MFA_PCA, FID_PIX2PIX]\n",
    "\n",
    "\n",
    "plt.figure(figsize=(15,5))\n",
    "ax = sns.barplot(x=pd.Series(range(len(bars))),y=pd.Series(bars), palette=\"Blues_d\")\n",
    "\n",
    "ax.set_xticklabels(['DCGAN', 'WGAN-GP', 'MFA (init. by FA)', 'MFA init. by PCA', 'PIX2PIX+MFA'],fontdict={'fontsize':16})\n",
    "ax.set_ylabel('FID',fontsize=25)\n",
    "ax.set_title('Frеchet Inception Distance',fontsize=25)"
   ]
  },
  {
   "cell_type": "code",
   "execution_count": null,
   "metadata": {},
   "outputs": [],
   "source": []
  }
 ],
 "metadata": {
  "kernelspec": {
   "display_name": "Python 3",
   "language": "python",
   "name": "python3"
  },
  "language_info": {
   "codemirror_mode": {
    "name": "ipython",
    "version": 3
   },
   "file_extension": ".py",
   "mimetype": "text/x-python",
   "name": "python",
   "nbconvert_exporter": "python",
   "pygments_lexer": "ipython3",
   "version": "3.7.3"
  }
 },
 "nbformat": 4,
 "nbformat_minor": 2
}
