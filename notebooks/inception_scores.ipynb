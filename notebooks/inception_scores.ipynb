{
 "cells": [
  {
   "cell_type": "code",
   "execution_count": 1,
   "metadata": {},
   "outputs": [],
   "source": [
    "%load_ext autoreload\n",
    "%autoreload 2"
   ]
  },
  {
   "cell_type": "code",
   "execution_count": 2,
   "metadata": {},
   "outputs": [],
   "source": [
    "import torch\n",
    "import torchvision\n",
    "import torchvision.transforms as transforms\n",
    "import torchvision.utils as vutils\n",
    "import numpy as np\n",
    "import matplotlib.pyplot as plt\n",
    "import matplotlib.animation as animation\n",
    "from IPython.display import HTML\n",
    "import torch.nn as nn\n",
    "import torch.optim as optim\n",
    "import os\n",
    "import torch.nn.functional as F\n",
    "from torch.utils.data import Dataset, DataLoader"
   ]
  },
  {
   "cell_type": "code",
   "execution_count": 3,
   "metadata": {},
   "outputs": [],
   "source": [
    "import sys\n",
    "sys.path.insert(1, '../')"
   ]
  },
  {
   "cell_type": "code",
   "execution_count": 47,
   "metadata": {},
   "outputs": [],
   "source": [
    "import numpy as np\n",
    "\n",
    "import torch\n",
    "\n",
    "from source.mfa.mfa import MFA\n",
    "from source.wgangp.wgan_model import WGAN_GP\n",
    "from source.dcgan.dcgan_model import Discriminator, Generator, DCGAN\n",
    "from source.ins_score.Inception_Score_function import Inception_Score"
   ]
  },
  {
   "cell_type": "code",
   "execution_count": 5,
   "metadata": {},
   "outputs": [],
   "source": [
    "device = torch.device(\"cuda:0\" if (torch.cuda.is_available()) else \"cpu\")"
   ]
  },
  {
   "cell_type": "code",
   "execution_count": 6,
   "metadata": {},
   "outputs": [],
   "source": [
    "predictor = torchvision.models.inception_v3(pretrained=True).to(device)"
   ]
  },
  {
   "cell_type": "code",
   "execution_count": 7,
   "metadata": {},
   "outputs": [],
   "source": [
    "transform = transforms.Compose(\n",
    "    [transforms.Resize(299),\n",
    "     transforms.ToTensor(),\n",
    "     transforms.Normalize(mean=[0.485, 0.456, 0.406],\n",
    "                          std=[0.229, 0.224, 0.225])])"
   ]
  },
  {
   "cell_type": "code",
   "execution_count": 8,
   "metadata": {},
   "outputs": [],
   "source": [
    "class Generated_images(Dataset):\n",
    "\n",
    "    def __init__(self, z, generator, transform=None, mode=None):\n",
    "        self.z = z\n",
    "        self.generator = generator\n",
    "        self.transform = transform\n",
    "        self.mode=mode\n",
    "\n",
    "    def __len__(self):\n",
    "        return len(self.z)\n",
    "\n",
    "    def __getitem__(self, idx):\n",
    "        from PIL import Image\n",
    "\n",
    "        with torch.no_grad():\n",
    "            if self.mode=='DCGAN':\n",
    "                image = np.transpose(self.generator(self.z[idx].reshape(1,Z_LATENT,1,1)).cpu().numpy().squeeze(),(1,2,0))\n",
    "            elif self.mode=='WGAN':\n",
    "                self.generator.eval()\n",
    "                image = np.transpose(self.generator(self.z[idx].reshape(1,Z_LATENT)).cpu().numpy().squeeze(),(1,2,0))\n",
    "        \n",
    "        norm = plt.Normalize()\n",
    "        image = norm(image)\n",
    "        \n",
    "        image = Image.fromarray(np.uint8(255*image))\n",
    "\n",
    "        if self.transform:\n",
    "            image = self.transform(image)\n",
    "\n",
    "        return image"
   ]
  },
  {
   "cell_type": "code",
   "execution_count": 9,
   "metadata": {},
   "outputs": [],
   "source": [
    "class MFADataset(Dataset):\n",
    "    def __init__(self, samples,transform=None):\n",
    "        self.samples = samples\n",
    "        self.transform = transform\n",
    "\n",
    "    def __len__(self):\n",
    "        return len(self.samples)\n",
    "    \n",
    "\n",
    "    def __getitem__(self, idx):\n",
    "        from PIL import Image\n",
    "        image = np.transpose(self.samples[idx].numpy(),(1,2,0))\n",
    "        norm = plt.Normalize()\n",
    "        image = norm(image)\n",
    "        \n",
    "        image = Image.fromarray(np.uint8(255*image))\n",
    "\n",
    "        if self.transform:\n",
    "            image = self.transform(image)\n",
    "        \n",
    "        return image"
   ]
  },
  {
   "cell_type": "code",
   "execution_count": 10,
   "metadata": {},
   "outputs": [],
   "source": [
    "num_test = 20000"
   ]
  },
  {
   "cell_type": "markdown",
   "metadata": {},
   "source": [
    "## DCGAN"
   ]
  },
  {
   "cell_type": "code",
   "execution_count": 11,
   "metadata": {},
   "outputs": [],
   "source": [
    "# Size of z latent vector\n",
    "Z_LATENT = 100\n",
    "\n",
    "# Size of generator output (channels)\n",
    "GENERATOR_PARAMETER = 64\n",
    "\n",
    "#  Size of discriminator output (channels)\n",
    "DISCRIMINATOR_PARAMETER = 64\n",
    "\n",
    "# Path for logs\n",
    "LOG_PATH = '../../generative-models/notebooks/dcgan_train_process_2'"
   ]
  },
  {
   "cell_type": "code",
   "execution_count": 12,
   "metadata": {},
   "outputs": [],
   "source": [
    "model = DCGAN(GENERATOR_PARAMETER, DISCRIMINATOR_PARAMETER,Z_LATENT,device)"
   ]
  },
  {
   "cell_type": "code",
   "execution_count": 13,
   "metadata": {},
   "outputs": [
    {
     "data": {
      "text/plain": [
       "<All keys matched successfully>"
      ]
     },
     "execution_count": 13,
     "metadata": {},
     "output_type": "execute_result"
    }
   ],
   "source": [
    "checkpoint = torch.load(os.path.join(LOG_PATH,'131000_generator.ckpt'))\n",
    "model.G.load_state_dict(checkpoint)"
   ]
  },
  {
   "cell_type": "code",
   "execution_count": 14,
   "metadata": {},
   "outputs": [],
   "source": [
    "z_DCGAN = torch.randn(num_test, Z_LATENT, 1, 1, device = device)"
   ]
  },
  {
   "cell_type": "code",
   "execution_count": 15,
   "metadata": {},
   "outputs": [],
   "source": [
    "images_set_DCGAN = Generated_images(z_DCGAN,model.G,transform=transform,mode='DCGAN')"
   ]
  },
  {
   "cell_type": "markdown",
   "metadata": {},
   "source": [
    "## WGAN_GP"
   ]
  },
  {
   "cell_type": "code",
   "execution_count": 22,
   "metadata": {},
   "outputs": [],
   "source": [
    "# Size of z latent vector\n",
    "Z_LATENT= 100\n",
    "\n",
    "# Path for logs\n",
    "LOG_PATH = '../../'"
   ]
  },
  {
   "cell_type": "code",
   "execution_count": 23,
   "metadata": {},
   "outputs": [
    {
     "data": {
      "text/plain": [
       "<All keys matched successfully>"
      ]
     },
     "execution_count": 23,
     "metadata": {},
     "output_type": "execute_result"
    }
   ],
   "source": [
    "wgangp_model = WGAN_GP(3, Z_LATENT).to(device)\n",
    "wgangp_model.G.load_state_dict(torch.load(os.path.join(LOG_PATH,'wgangp_gen_40.pt')))"
   ]
  },
  {
   "cell_type": "code",
   "execution_count": 24,
   "metadata": {},
   "outputs": [],
   "source": [
    "z_WGAN = torch.randn(num_test, Z_LATENT,device = device)"
   ]
  },
  {
   "cell_type": "code",
   "execution_count": 25,
   "metadata": {},
   "outputs": [],
   "source": [
    "images_set_WGAN = Generated_images(z_WGAN,wgangp_model.G,transform=transform,mode='WGAN')"
   ]
  },
  {
   "cell_type": "markdown",
   "metadata": {},
   "source": [
    "## MFA"
   ]
  },
  {
   "cell_type": "code",
   "execution_count": 29,
   "metadata": {},
   "outputs": [],
   "source": [
    "# Path for logs\n",
    "LOG_PATH = '../../'"
   ]
  },
  {
   "cell_type": "code",
   "execution_count": 30,
   "metadata": {},
   "outputs": [],
   "source": [
    "fa_gmm_model = MFA()"
   ]
  },
  {
   "cell_type": "code",
   "execution_count": 31,
   "metadata": {},
   "outputs": [],
   "source": [
    "fa_gmm_model.load(os.path.join(LOG_PATH,'e1_fa_256_saved_gmm.pkl'))"
   ]
  },
  {
   "cell_type": "code",
   "execution_count": 32,
   "metadata": {},
   "outputs": [],
   "source": [
    "fa_samples = fa_gmm_model.draw_samples(num_test, False)"
   ]
  },
  {
   "cell_type": "code",
   "execution_count": 33,
   "metadata": {},
   "outputs": [],
   "source": [
    "fa_samples = torch.Tensor(fa_samples.reshape(num_test,3,64,64))"
   ]
  },
  {
   "cell_type": "code",
   "execution_count": 34,
   "metadata": {},
   "outputs": [],
   "source": [
    "images_set_MFA = MFADataset(fa_samples,transform=transform)"
   ]
  },
  {
   "cell_type": "markdown",
   "metadata": {},
   "source": [
    "## Calculate IS score"
   ]
  },
  {
   "cell_type": "code",
   "execution_count": 48,
   "metadata": {},
   "outputs": [],
   "source": [
    "IS_DCGAN, IS_err_DCGAN = Inception_Score(images_set_DCGAN, predictor, n=10, bs=100)"
   ]
  },
  {
   "cell_type": "code",
   "execution_count": 54,
   "metadata": {},
   "outputs": [
    {
     "name": "stdout",
     "output_type": "stream",
     "text": [
      "Inception score for DCGAN equals 2.330+/-0.032\n"
     ]
    }
   ],
   "source": [
    "print('Inception score for DCGAN equals %.3f+/-%.3f' % (IS_DCGAN,IS_err_DCGAN))"
   ]
  },
  {
   "cell_type": "code",
   "execution_count": 50,
   "metadata": {},
   "outputs": [],
   "source": [
    "IS_WGAN, IS_err_WGAN = Inception_Score(images_set_WGAN, predictor, n=10, bs=100)"
   ]
  },
  {
   "cell_type": "code",
   "execution_count": 55,
   "metadata": {},
   "outputs": [
    {
     "name": "stdout",
     "output_type": "stream",
     "text": [
      "Inception score for WGAN equals 2.403+/-0.039\n"
     ]
    }
   ],
   "source": [
    "print('Inception score for WGAN equals %.3f+/-%.3f' % (IS_WGAN,IS_err_WGAN))"
   ]
  },
  {
   "cell_type": "code",
   "execution_count": 52,
   "metadata": {},
   "outputs": [],
   "source": [
    "IS_MFA, IS_err_MFA = Inception_Score(images_set_MFA, predictor, n=10, bs=100)"
   ]
  },
  {
   "cell_type": "code",
   "execution_count": 56,
   "metadata": {},
   "outputs": [
    {
     "name": "stdout",
     "output_type": "stream",
     "text": [
      "Inception score for MFA equals 1.871+/-0.015\n"
     ]
    }
   ],
   "source": [
    "print('Inception score for MFA equals %.3f+/-%.3f' % (IS_MFA,IS_err_MFA))"
   ]
  },
  {
   "cell_type": "code",
   "execution_count": 68,
   "metadata": {},
   "outputs": [
    {
     "data": {
      "image/png": "[encoded data removed]",
      "text/plain": [
       "<Figure size 720x360 with 1 Axes>"
      ]
     },
     "metadata": {
      "needs_background": "light"
     },
     "output_type": "display_data"
    }
   ],
   "source": [
    "import matplotlib.pyplot as plt\n",
    "\n",
    "plt.figure(figsize = (10,5))\n",
    "\n",
    "barWidth = 0.3\n",
    " \n",
    "bars = [IS_DCGAN, IS_WGAN, IS_MFA]\n",
    "yerr = [IS_err_DCGAN, IS_err_WGAN, IS_err_MFA]\n",
    "\n",
    "xs = np.arange(len(bars))\n",
    "\n",
    "plt.bar(xs,height = bars, width = barWidth, color = (0.3,0.5,0.4,0.6), edgecolor = 'black', yerr=yerr, capsize=7)\n",
    " \n",
    "plt.xticks(xs, ['DCGAN', 'WGAN', 'MFA'],fontsize=25)\n",
    "plt.ylabel('IS',fontsize=25)\n",
    "plt.title('Inception Score',fontsize=25)\n",
    " \n",
    "# Show graphic\n",
    "plt.show()\n"
   ]
  },
  {
   "cell_type": "code",
   "execution_count": null,
   "metadata": {},
   "outputs": [],
   "source": []
  }
 ],
 "metadata": {
  "kernelspec": {
   "display_name": "Python 3",
   "language": "python",
   "name": "python3"
  },
  "language_info": {
   "codemirror_mode": {
    "name": "ipython",
    "version": 3
   },
   "file_extension": ".py",
   "mimetype": "text/x-python",
   "name": "python",
   "nbconvert_exporter": "python",
   "pygments_lexer": "ipython3",
   "version": "3.7.3"
  }
 },
 "nbformat": 4,
 "nbformat_minor": 2
}
